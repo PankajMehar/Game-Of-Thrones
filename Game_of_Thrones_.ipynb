{
 "cells": [
  {
   "cell_type": "markdown",
   "metadata": {},
   "source": [
    "# Game of Thrones EDA"
   ]
  },
  {
   "cell_type": "code",
   "execution_count": 97,
   "metadata": {
    "collapsed": false
   },
   "outputs": [],
   "source": [
    "# Data Cleaning and wrangling\n",
    "from pandas import DataFrame, read_csv\n",
    "import numpy as np\n",
    "\n",
    "# Data Visualization\n",
    "import matplotlib.pyplot as plt\n",
    "import seaborn as sns\n",
    "%matplotlib inline\n",
    "sns.set_style(\"white\")\n",
    "\n",
    "\n",
    "# time module\n",
    "import time\n",
    "\n",
    "# regex module\n",
    "import re\n",
    "\n",
    "# import counter\n",
    "from collections import Counter"
   ]
  },
  {
   "cell_type": "code",
   "execution_count": 98,
   "metadata": {
    "collapsed": true
   },
   "outputs": [],
   "source": [
    "def timeit(method):\n",
    "    ''' To check the execution time\n",
    "        Parameter\n",
    "        ---------\n",
    "        method: function\n",
    "        Return\n",
    "        ---------\n",
    "        float number\n",
    "    '''\n",
    "    def timed(*args, **kw):\n",
    "        ts = time.time()\n",
    "        result = method(*args, **kw)\n",
    "        te = time.time()\n",
    "        if 'log_time' in kw:\n",
    "            name = kw.get('log_name', method.__name__.upper())\n",
    "            kw['log_time'][name] = int((te - ts) * 1000)\n",
    "        else:\n",
    "            print('%r  %2.2f ms' % \\\n",
    "                  (method.__name__, (te - ts) * 1000))\n",
    "        return result\n",
    "    return timed"
   ]
  },
  {
   "cell_type": "code",
   "execution_count": 112,
   "metadata": {
    "collapsed": false
   },
   "outputs": [
    {
     "name": "stdout",
     "output_type": "stream",
     "text": [
      "'load_csv'  6.61 ms\n",
      "'load_csv'  4.53 ms\n",
      "'load_csv'  13.78 ms\n"
     ]
    }
   ],
   "source": [
    "@timeit\n",
    "def load_csv(name):\n",
    "    ''' loads the dataset\n",
    "        Parameter:\n",
    "        ----------\n",
    "        method: string\n",
    "        Return\n",
    "        ----------\n",
    "        dataframe\n",
    "    '''\n",
    "    try:\n",
    "        filepath = \"./\" +name+ '.csv'\n",
    "        if name == 'battles':\n",
    "            return read_csv(filepath)\n",
    "        elif name == 'character-deaths':\n",
    "            return read_csv(filepath)\n",
    "        elif name == 'character-predictions':\n",
    "            return read_csv(filepath)\n",
    "        else:\n",
    "            pass\n",
    "    except IOError:\n",
    "        raise \"File not Found 404\"\n",
    "\n",
    "battles = load_csv('battles')\n",
    "character_deaths = load_csv('character-deaths')\n",
    "character_predictions = load_csv('character-predictions')"
   ]
  },
  {
   "cell_type": "code",
   "execution_count": 100,
   "metadata": {
    "collapsed": false
   },
   "outputs": [
    {
     "data": {
      "text/plain": [
       "Index([u'name', u'year', u'battle_number', u'attacker_king', u'defender_king',\n",
       "       u'attacker_1', u'attacker_2', u'attacker_3', u'attacker_4',\n",
       "       u'defender_1', u'defender_2', u'defender_3', u'defender_4',\n",
       "       u'attacker_outcome', u'battle_type', u'major_death', u'major_capture',\n",
       "       u'attacker_size', u'defender_size', u'attacker_commander',\n",
       "       u'defender_commander', u'summer', u'location', u'region', u'note'],\n",
       "      dtype='object')"
      ]
     },
     "execution_count": 100,
     "metadata": {},
     "output_type": "execute_result"
    }
   ],
   "source": [
    "battles.columns"
   ]
  },
  {
   "cell_type": "code",
   "execution_count": 116,
   "metadata": {
    "collapsed": false
   },
   "outputs": [
    {
     "name": "stdout",
     "output_type": "stream",
     "text": [
      "'new_features'  18.93 ms\n"
     ]
    }
   ],
   "source": [
    "# battles['attcker_number'] = []\n",
    "@timeit\n",
    "def new_features(dataframe1, dataframe2):\n",
    "    dataframe1.loc[:, 'attacker_count'] = (4 - battles[['attacker_1','attacker_2', 'attacker_3', \\\n",
    "                                              'attacker_4']].isnull().sum(axis=1))\n",
    "    dataframe1.loc[:, 'defender_count'] = (4 - battles[['defender_1','defender_2', 'defender_3', \\\n",
    "                                              'defender_4']].isnull().sum(axis=1))\n",
    "    dataframe1.loc[:, 'att_comm_count'] = [len(x) if type(x) == list else np.nan for \\\n",
    "                                        x in battles.attacker_commander.str.split(',')]\n",
    "    dataframe2.loc[:, 'no_of_books'] = character_predictions[[x for x in \\\n",
    "                                                                character_predictions.columns \\\n",
    "                                                            if x.startswith('book')]].sum(axis=1)\n",
    "    \n",
    "new_features(battles, character_predictions)"
   ]
  },
  {
   "cell_type": "code",
   "execution_count": 102,
   "metadata": {
    "collapsed": false
   },
   "outputs": [
    {
     "data": {
      "text/plain": [
       "Index([u'name', u'year', u'battle_number', u'attacker_king', u'defender_king',\n",
       "       u'attacker_1', u'attacker_2', u'attacker_3', u'attacker_4',\n",
       "       u'defender_1', u'defender_2', u'defender_3', u'defender_4',\n",
       "       u'attacker_outcome', u'battle_type', u'major_death', u'major_capture',\n",
       "       u'attacker_size', u'defender_size', u'attacker_commander',\n",
       "       u'defender_commander', u'summer', u'location', u'region', u'note',\n",
       "       u'attacker_count', u'defender_count', u'att_comm_count'],\n",
       "      dtype='object')"
      ]
     },
     "execution_count": 102,
     "metadata": {},
     "output_type": "execute_result"
    }
   ],
   "source": [
    "battles.columns"
   ]
  },
  {
   "cell_type": "code",
   "execution_count": 103,
   "metadata": {
    "collapsed": false
   },
   "outputs": [
    {
     "data": {
      "text/plain": [
       "Index([u'S.No', u'actual', u'pred', u'alive', u'plod', u'name', u'title',\n",
       "       u'male', u'culture', u'dateOfBirth', u'DateoFdeath', u'mother',\n",
       "       u'father', u'heir', u'house', u'spouse', u'book1', u'book2', u'book3',\n",
       "       u'book4', u'book5', u'isAliveMother', u'isAliveFather', u'isAliveHeir',\n",
       "       u'isAliveSpouse', u'isMarried', u'isNoble', u'age', u'numDeadRelations',\n",
       "       u'boolDeadRelations', u'isPopular', u'popularity', u'isAlive',\n",
       "       u'no_of_books'],\n",
       "      dtype='object')"
      ]
     },
     "execution_count": 103,
     "metadata": {},
     "output_type": "execute_result"
    }
   ],
   "source": [
    "character_predictions.columns"
   ]
  },
  {
   "cell_type": "code",
   "execution_count": 105,
   "metadata": {
    "collapsed": false
   },
   "outputs": [
    {
     "data": {
      "text/plain": [
       "1.0    15\n",
       "2.0    13\n",
       "3.0     5\n",
       "6.0     2\n",
       "5.0     2\n",
       "Name: att_comm_count, dtype: int64"
      ]
     },
     "execution_count": 105,
     "metadata": {},
     "output_type": "execute_result"
    }
   ],
   "source": [
    "battles.att_comm_count.value_counts()"
   ]
  },
  {
   "cell_type": "code",
   "execution_count": 123,
   "metadata": {
    "collapsed": false
   },
   "outputs": [
    {
     "data": {
      "text/html": [
       "<div>\n",
       "<table border=\"1\" class=\"dataframe\">\n",
       "  <thead>\n",
       "    <tr style=\"text-align: right;\">\n",
       "      <th></th>\n",
       "      <th>book1</th>\n",
       "      <th>book2</th>\n",
       "      <th>book3</th>\n",
       "      <th>book4</th>\n",
       "      <th>book5</th>\n",
       "    </tr>\n",
       "  </thead>\n",
       "  <tbody>\n",
       "    <tr>\n",
       "      <th>0</th>\n",
       "      <td>0</td>\n",
       "      <td>0</td>\n",
       "      <td>0</td>\n",
       "      <td>0</td>\n",
       "      <td>0</td>\n",
       "    </tr>\n",
       "    <tr>\n",
       "      <th>1</th>\n",
       "      <td>1</td>\n",
       "      <td>1</td>\n",
       "      <td>1</td>\n",
       "      <td>1</td>\n",
       "      <td>1</td>\n",
       "    </tr>\n",
       "    <tr>\n",
       "      <th>2</th>\n",
       "      <td>0</td>\n",
       "      <td>0</td>\n",
       "      <td>0</td>\n",
       "      <td>1</td>\n",
       "      <td>0</td>\n",
       "    </tr>\n",
       "    <tr>\n",
       "      <th>3</th>\n",
       "      <td>0</td>\n",
       "      <td>0</td>\n",
       "      <td>0</td>\n",
       "      <td>0</td>\n",
       "      <td>0</td>\n",
       "    </tr>\n",
       "    <tr>\n",
       "      <th>4</th>\n",
       "      <td>0</td>\n",
       "      <td>0</td>\n",
       "      <td>0</td>\n",
       "      <td>1</td>\n",
       "      <td>0</td>\n",
       "    </tr>\n",
       "  </tbody>\n",
       "</table>\n",
       "</div>"
      ],
      "text/plain": [
       "   book1  book2  book3  book4  book5\n",
       "0      0      0      0      0      0\n",
       "1      1      1      1      1      1\n",
       "2      0      0      0      1      0\n",
       "3      0      0      0      0      0\n",
       "4      0      0      0      1      0"
      ]
     },
     "execution_count": 123,
     "metadata": {},
     "output_type": "execute_result"
    }
   ],
   "source": [
    "character_predictions.iloc[:, 16:21].head()"
   ]
  },
  {
   "cell_type": "markdown",
   "metadata": {},
   "source": [
    "## Major Death/ Capture by year"
   ]
  },
  {
   "cell_type": "code",
   "execution_count": 113,
   "metadata": {
    "collapsed": false,
    "scrolled": true
   },
   "outputs": [
    {
     "data": {
      "image/png": "[encoded data removed]",
      "text/plain": [
       "<matplotlib.figure.Figure at 0x7fdf56163110>"
      ]
     },
     "metadata": {},
     "output_type": "display_data"
    }
   ],
   "source": [
    "p = battles.groupby('year')[['major_death', 'major_capture']].sum().plot(kind='bar')\n",
    "_ = p.set(xlabel='Year', ylabel='No_of_deaths')"
   ]
  },
  {
   "cell_type": "markdown",
   "metadata": {},
   "source": [
    "## One Major house on attacking side"
   ]
  },
  {
   "cell_type": "code",
   "execution_count": 124,
   "metadata": {
    "collapsed": false
   },
   "outputs": [
    {
     "data": {
      "image/png": "[encoded data removed]",
      "text/plain": [
       "<matplotlib.figure.Figure at 0x7fdf56285790>"
      ]
     },
     "metadata": {},
     "output_type": "display_data"
    }
   ],
   "source": [
    "# c = list(tuple([set(x) for x in battles.attacker_commander.values() if len(set(x)) > 1]))\n",
    "p = battles.attacker_count.value_counts().sort_index().plot.bar(rot = 0)\n",
    "_ = p.set(xlabel = \"No. of Major Attacker Houses\", ylabel = \"Count\")"
   ]
  },
  {
   "cell_type": "markdown",
   "metadata": {},
   "source": [
    "## Pair with most fought battle"
   ]
  },
  {
   "cell_type": "code",
   "execution_count": 125,
   "metadata": {
    "collapsed": false
   },
   "outputs": [
    {
     "data": {
      "image/png": "[encoded data removed]",
      "text/plain": [
       "<matplotlib.figure.Figure at 0x7fdf56681210>"
      ]
     },
     "metadata": {},
     "output_type": "display_data"
    }
   ],
   "source": [
    "c = list(Counter([tuple(set(x)) for x in battles.dropna(subset = [\"attacker_king\", \"defender_king\"])[[\"attacker_king\", \"defender_king\"]].values if len(set(x)) > 1]).items())\n",
    "p = DataFrame(c).sort_values(1).plot.barh(figsize = (10, 6))\n",
    "_ = p.set(yticklabels = [\"%s vs. %s\" % (x[0], x[1]) for x in list(zip(*c))[0]], xlabel = \"No. of Battles\"), p.legend(\"\")"
   ]
  },
  {
   "cell_type": "markdown",
   "metadata": {},
   "source": [
    "## Army commanders and their Kings"
   ]
  },
  {
   "cell_type": "code",
   "execution_count": 117,
   "metadata": {
    "collapsed": false
   },
   "outputs": [
    {
     "data": {
      "text/plain": [
       "<matplotlib.axes._subplots.AxesSubplot at 0x7fdf55d9b910>"
      ]
     },
     "execution_count": 117,
     "metadata": {},
     "output_type": "execute_result"
    },
    {
     "data": {
      "image/png": "[encoded data removed]",
      "text/plain": [
       "<matplotlib.figure.Figure at 0x7fdf55c0f150>"
      ]
     },
     "metadata": {},
     "output_type": "display_data"
    }
   ],
   "source": [
    "sns.boxplot(battles.att_comm_count, battles.attacker_king , data=battles)\n"
   ]
  },
  {
   "cell_type": "code",
   "execution_count": null,
   "metadata": {
    "collapsed": true
   },
   "outputs": [],
   "source": []
  }
 ],
 "metadata": {
  "kernelspec": {
   "display_name": "Python [Root]",
   "language": "python",
   "name": "Python [Root]"
  },
  "language_info": {
   "codemirror_mode": {
    "name": "ipython",
    "version": 2
   },
   "file_extension": ".py",
   "mimetype": "text/x-python",
   "name": "python",
   "nbconvert_exporter": "python",
   "pygments_lexer": "ipython2",
   "version": "2.7.12"
  }
 },
 "nbformat": 4,
 "nbformat_minor": 0
}
